{
  "cells": [
    {
      "cell_type": "markdown",
      "metadata": {
        "id": "i4qjn-aVbQw2"
      },
      "source": [
        "\n",
        "<center>\n",
        "    <p style=\"text-align:center\">\n",
        "    <img alt=\"arize logo\" src=\"https://storage.googleapis.com/arize-assets/arize-logo-white.jpg\" width=\"300\"/>\n",
        "        <br>\n",
        "        <a href=\"https://docs.arize.com/arize/\">Docs</a>\n",
        "        |\n",
        "        <a href=\"https://github.com/Arize-ai/client_python\">GitHub</a>\n",
        "        |\n",
        "        <a href=\"https://arize-ai.slack.com/join/shared_invite/zt-11t1vbu4x-xkBIHmOREQnYnYDH1GDfCg\">Community</a>\n",
        "    </p>\n",
        "</center>\n",
        "\n",
        "# <center>Tracing and Evaluating Agno Agents</center>\n",
        "\n",
        "This guide shows you how to create and evaluate agents with Arize to improve performance. We'll go through the following steps:\n",
        "\n",
        "* Create an agent using the Agno agents SDK\n",
        "\n",
        "* Trace the agent activity\n",
        "\n",
        "* Add evaluations on your traces"
      ]
    },
    {
      "cell_type": "code",
      "execution_count": null,
      "metadata": {
        "id": "SZkApI41bQw3"
      },
      "outputs": [],
      "source": [
        "!pip install -q agno duckduckgo-search newspaper4k lxml_html_clean openinference-instrumentation-agno openinference-instrumentation-openai openai arize-otel"
      ]
    },
    {
      "cell_type": "markdown",
      "metadata": {
        "id": "jcbuuELCbQw3"
      },
      "source": [
        "## Connect to Arize"
      ]
    },
    {
      "cell_type": "markdown",
      "metadata": {
        "id": "J25838twbQw3"
      },
      "source": [
        "### Setup Keys\n",
        "\n",
        "Copy the Arize `API_KEY` and `SPACE_ID` from your Space Settings page (shown below) to the variables in the cell below.\n",
        "\n",
        "<center><img src=\"https://storage.googleapis.com/arize-assets/barcelos/Screenshot%202024-11-11%20at%209.28.27%E2%80%AFPM.png\" width=\"700\"></center>"
      ]
    },
    {
      "cell_type": "code",
      "execution_count": null,
      "metadata": {
        "id": "MMx6G2lzbQw3"
      },
      "outputs": [],
      "source": [
        "import os\n",
        "import nest_asyncio\n",
        "from getpass import getpass\n",
        "\n",
        "nest_asyncio.apply()\n",
        "\n",
        "SPACE_ID = globals().get(\"SPACE_ID\") or getpass(\n",
        "    \"🔑 Enter your Arize Space ID: \"\n",
        ")\n",
        "API_KEY = globals().get(\"API_KEY\") or getpass(\"🔑 Enter your Arize API Key: \")\n",
        "OPENAI_API_KEY = globals().get(\"OPENAI_API_KEY\") or getpass(\n",
        "    \"🔑 Enter your OpenAI API key: \"\n",
        ")\n",
        "os.environ[\"OPENAI_API_KEY\"] = OPENAI_API_KEY"
      ]
    },
    {
      "cell_type": "code",
      "execution_count": null,
      "metadata": {
        "id": "aGP5GktHbQw4"
      },
      "outputs": [],
      "source": [
        "### Setup Tracing\n",
        "from arize.otel import register\n",
        "from openinference.instrumentation.openai import OpenAIInstrumentor\n",
        "from openinference.instrumentation.agno import AgnoInstrumentor\n",
        "\n",
        "# Setup OpenTelemetry via our convenience function\n",
        "tracer_provider = register(\n",
        "    space_id=SPACE_ID,\n",
        "    api_key=API_KEY,\n",
        "    project_name=\"agno-agents-cookbook\",\n",
        ")\n",
        "\n",
        "# Start instrumentation\n",
        "AgnoInstrumentor().instrument(tracer_provider=tracer_provider)\n",
        "OpenAIInstrumentor().instrument(tracer_provider=tracer_provider)"
      ]
    },
    {
      "cell_type": "markdown",
      "metadata": {
        "id": "CKHwl21HbQw4"
      },
      "source": [
        "## Build your Agno Agent"
      ]
    },
    {
      "cell_type": "code",
      "execution_count": null,
      "metadata": {
        "id": "wKBY5BZLbQw4"
      },
      "outputs": [],
      "source": [
        "from textwrap import dedent\n",
        "\n",
        "from agno.agent import Agent\n",
        "from agno.models.openai import OpenAIChat\n",
        "from agno.tools.duckduckgo import DuckDuckGoTools\n",
        "from agno.tools.newspaper4k import Newspaper4kTools\n",
        "\n",
        "policy_research_agent = Agent(\n",
        "    model=OpenAIChat(id=\"gpt-4o\"),\n",
        "    tools=[DuckDuckGoTools(), Newspaper4kTools()],\n",
        "    description=dedent(\"\"\"\\\n",
        "        You are a senior policy analyst who advises G20 governments on the\n",
        "        governance of advanced AI systems. Your expertise spans: 🌐\n",
        "\n",
        "        • Comparative regulatory analysis (EU AI Act, U.S. EO, China’s draft regs)\n",
        "        • Risk taxonomy & mitigation frameworks (NIST, ISO, OECD)\n",
        "        • Multi‑stakeholder negotiation and diplomacy\n",
        "        • Economic impact modelling and labour‑market studies\n",
        "        • Standards‑setting processes (IEEE, ISO/IEC)\n",
        "        • Enforcement mechanisms and audit requirements\n",
        "        • Rights‑based and ethics‑based approaches to AI governance\\\n",
        "    \"\"\"),\n",
        "    instructions=dedent(\"\"\"\\\n",
        "        1. Discovery Phase 🔍\n",
        "           – Gather at least 12 authoritative sources: legislation, white‑papers,\n",
        "             peer‑reviewed studies, think‑tank reports, and reputable news.\n",
        "           – Prioritise the most recent versions / amendments (≤ 12 months).\n",
        "           – Identify divergent regional approaches and key stakeholders.\n",
        "\n",
        "        2. Comparative Analysis 📊\n",
        "           – Map each region’s regulatory scope, risk tiers, and enforcement powers.\n",
        "           – Cross‑reference impact assessments and economic forecasts.\n",
        "           – Highlight areas of convergence and friction (e.g., foundation‑model audits).\n",
        "\n",
        "        3. Recommendation Draft ✍️\n",
        "           – Craft a concise, actionable brief for policymakers.\n",
        "           – Include trade‑offs, implementation timelines, and anticipated market effects.\n",
        "           – Use bullet points and tables where clarity improves.\n",
        "\n",
        "        4. Validation & Quality Control ✓\n",
        "           – Verify every cited statute / article for publication date and authenticity.\n",
        "           – Ensure balanced representation of civil‑society and industry viewpoints.\n",
        "           – Flag any major uncertainties or data gaps.\n",
        "    \"\"\"),\n",
        "    expected_output=dedent(\"\"\"\\\n",
        "        # {Short, Punchy Headline on AI Governance Landscape} 🌐\n",
        "\n",
        "        ## Executive Summary\n",
        "        {One‑paragraph snapshot of regulatory momentum and stakes}\n",
        "\n",
        "        | Region | Current Status | Key Provisions | Enforcement Timeline |\n",
        "        |--------|---------------|----------------|----------------------|\n",
        "        | EU     | ...           | ...            | ...                 |\n",
        "        | U.S.   | ...           | ...            | ...                 |\n",
        "        | ...    | ...           | ...            | ...                 |\n",
        "\n",
        "        ## Comparative Findings\n",
        "        - **Risk Classification:** {...}\n",
        "        - **Testing & Audit Requirements:** {...}\n",
        "        - **Penalties & Incentives:** {...}\n",
        "\n",
        "        ## Strategic Implications\n",
        "        {Market, innovation, and compliance impacts for enterprises}\n",
        "\n",
        "        ## Policy Recommendations\n",
        "        1. **Short‑Term (0‑12 mo):** {...}\n",
        "        2. **Medium‑Term (1‑3 yrs):** {...}\n",
        "        3. **Long‑Term (>3 yrs):** {...}\n",
        "\n",
        "        ## Sources\n",
        "        {Numbered list, each with publication date and 1‑line relevance note}\n",
        "\n",
        "        ---\n",
        "        Prepared by AI Policy Analyst · Published: {current_date} · Last Updated: {current_time}\n",
        "    \"\"\"),\n",
        "    markdown=True,\n",
        "    show_tool_calls=True,\n",
        "    add_datetime_to_instructions=True,\n",
        ")"
      ]
    },
    {
      "cell_type": "code",
      "execution_count": null,
      "metadata": {
        "id": "V97rypFlbQw4"
      },
      "outputs": [],
      "source": [
        "policy_research_agent.print_response(\n",
        "    \"Analyze the current state and future implications of artificial intelligence regulation worldwide\",\n",
        "    stream=True,\n",
        ")"
      ]
    },
    {
      "cell_type": "markdown",
      "metadata": {
        "id": "jm7mn612bQw5"
      },
      "source": [
        "## Add Evals in Arize AX\n",
        "\n",
        "Evals can be added in the Arize AX dashboard directly. Follow along here to see how:\n",
        "\n",
        "<video width=\"100%\" controls>\n",
        "  <source src=\"https://storage.googleapis.com/arize-phoenix-assets/assets/videos/agno-evals.mp4\" type=\"video/mp4\">\n",
        "  Your browser does not support the video tag.\n",
        "</video>"
      ]
    }
  ],
  "metadata": {
    "language_info": {
      "name": "python"
    },
    "colab": {
      "provenance": []
    }
  },
  "nbformat": 4,
  "nbformat_minor": 0
}